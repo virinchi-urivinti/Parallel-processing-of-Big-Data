{
 "cells": [
  {
   "cell_type": "code",
   "execution_count": null,
   "metadata": {},
   "outputs": [],
   "source": [
    "import nltk\n",
    "import string\n",
    "from nltk.stem import WordNetLemmatizer"
   ]
  },
  {
   "cell_type": "code",
   "execution_count": null,
   "metadata": {},
   "outputs": [],
   "source": [
    "nltk.download('stopwords')\n",
    "nltk.download('wordnet')\n",
    "nltk.download('punkt')\n"
   ]
  },
  {
   "cell_type": "code",
   "execution_count": null,
   "metadata": {},
   "outputs": [],
   "source": [
    "from nltk.corpus import stopwords\n",
    "from nltk.tokenize import word_tokenize\n"
   ]
  },
  {
   "cell_type": "code",
   "execution_count": null,
   "metadata": {},
   "outputs": [],
   "source": [
    "stop_word=set(stopwords.words('english'))"
   ]
  },
  {
   "cell_type": "code",
   "execution_count": null,
   "metadata": {},
   "outputs": [],
   "source": [
    "new_words=['!', '\"', '#', '$', '%', '&', \"'\", '(', ')', '*', '+', ',', '-', '.', '/', ':', ';', '<', '=', '>', '?', '@', '[', '\\\\', ']', '^', '_', '`', '{', '|', '}', '~']\n"
   ]
  },
  {
   "cell_type": "code",
   "execution_count": null,
   "metadata": {},
   "outputs": [],
   "source": [
    "f=open(\"commoncrawl_soccerf.txt\",encoding=\"utf8\")\n",
    "f1=open(\"commoncrawl_soccerfm.txt\",\"w\",encoding=\"utf8\")\n",
    "lines=f.readlines()\n",
    "for i in lines:\n",
    "    #print(i)\n",
    "    #if('’')\n",
    "    regulared=\"\"\n",
    "    word_tokens = word_tokenize(i) \n",
    "    #print(word_tokens)\n",
    "    word_tokens=[word.lower() for word in word_tokens if word.isalpha()]\n",
    "    for w in word_tokens:        \n",
    "        if w not in stop_word:\n",
    "            if w not in new_words:\n",
    "                #print(\"hi\")\n",
    "                #print(w)\n",
    "                regulared=regulared+\" \"+w\n",
    "    f1.write(regulared)\n",
    "    f1.write('\\n')\n",
    "    #break\n",
    "f.close()\n",
    "f1.close()"
   ]
  },
  {
   "cell_type": "code",
   "execution_count": null,
   "metadata": {},
   "outputs": [],
   "source": [
    "filenames = ['ny_timeswc0', 'ny_timeswc1'\n",
    "             ,'ny_timeswc2']\n",
    "with open('ny_timeswcfinal.txt', 'w',encoding='utf-8') as outfile:\n",
    "    for fname in filenames:\n",
    "        with open(fname) as infile:\n",
    "            for line in infile:\n",
    "                outfile.write(line)"
   ]
  },
  {
   "cell_type": "code",
   "execution_count": null,
   "metadata": {},
   "outputs": [],
   "source": [
    "import pandas as pd\n",
    "dg=pd.read_csv('nytimes_coocurance.csv')"
   ]
  }
 ],
 "metadata": {
  "kernelspec": {
   "display_name": "Python 3",
   "language": "python",
   "name": "python3"
  },
  "language_info": {
   "codemirror_mode": {
    "name": "ipython",
    "version": 3
   },
   "file_extension": ".py",
   "mimetype": "text/x-python",
   "name": "python",
   "nbconvert_exporter": "python",
   "pygments_lexer": "ipython3",
   "version": "3.7.4"
  }
 },
 "nbformat": 4,
 "nbformat_minor": 2
}
